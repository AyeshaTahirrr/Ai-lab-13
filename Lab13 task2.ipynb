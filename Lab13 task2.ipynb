{
 "cells": [
  {
   "cell_type": "code",
   "execution_count": 5,
   "id": "47808ab0-fc94-40d7-b91f-7137e378d23e",
   "metadata": {},
   "outputs": [
    {
     "name": "stdout",
     "output_type": "stream",
     "text": [
      "s2 and s3 crossover after 4th point\n",
      "s2 = [0, 0, 1, 1, 1, 1, 0, 1, 1, 1] s3 = [0, 1, 1, 0, 1, 1, 1, 1, 1, 1]\n"
     ]
    }
   ],
   "source": [
    "\n",
    "S = [[0, 0, 1, 1, 1, 1, 1, 1, 1, 1], \n",
    "     [0, 0, 1, 1, 1, 1, 1, 1, 1, 1], \n",
    "     [0, 1, 1, 0, 1, 1, 0, 1, 1, 1], \n",
    "     [0, 1, 0, 1, 1, 1, 0, 0, 1, 1], \n",
    "     [0, 0, 1, 0, 1, 1, 1, 1, 1, 1], \n",
    "     [0, 0, 1, 0, 1, 1, 0, 1, 1, 1]]\n",
    "\n",
    "desc = sorted(S, key=lambda x: -x.count(1))\n",
    "\n",
    "for i in range(3):\n",
    "    desc[0][i], desc[3][i] = desc[3][i], desc[0][i]\n",
    "    desc[4][i], desc[5][i] = desc[5][i], desc[4][i]\n",
    "\n",
    "for i in range(4, len(desc[0])):\n",
    "    desc[1][i], desc[2][i] = desc[2][i], desc[1][i]\n",
    "\n",
    "print(\"s2 and s3 crossover after 4th point\")\n",
    "print(\"s2 =\", desc[1], \"s3 =\", desc[2])\n"
   ]
  },
  {
   "cell_type": "code",
   "execution_count": null,
   "id": "8182fc23-5689-49dd-8405-362aa57cbfb8",
   "metadata": {},
   "outputs": [],
   "source": []
  }
 ],
 "metadata": {
  "kernelspec": {
   "display_name": "Python 3 (ipykernel)",
   "language": "python",
   "name": "python3"
  },
  "language_info": {
   "codemirror_mode": {
    "name": "ipython",
    "version": 3
   },
   "file_extension": ".py",
   "mimetype": "text/x-python",
   "name": "python",
   "nbconvert_exporter": "python",
   "pygments_lexer": "ipython3",
   "version": "3.12.7"
  }
 },
 "nbformat": 4,
 "nbformat_minor": 5
}
