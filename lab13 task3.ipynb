{
 "cells": [
  {
   "cell_type": "code",
   "execution_count": 6,
   "id": "d36f3671-b6cf-4ef2-b801-1e1a8ebcf31e",
   "metadata": {},
   "outputs": [
    {
     "name": "stdin",
     "output_type": "stream",
     "text": [
      "Enter the number of chromosomes:  4\n",
      "Enter the length of each chromosome:  6\n"
     ]
    },
    {
     "name": "stdout",
     "output_type": "stream",
     "text": [
      "Enter values for chromosome 1 (space-separated, 0s and 1s only):\n"
     ]
    },
    {
     "name": "stdin",
     "output_type": "stream",
     "text": [
      " 0\n"
     ]
    },
    {
     "name": "stdout",
     "output_type": "stream",
     "text": [
      "Please enter exactly 6 values:\n"
     ]
    },
    {
     "name": "stdin",
     "output_type": "stream",
     "text": [
      " 0 1 0 1 0 1\n"
     ]
    },
    {
     "name": "stdout",
     "output_type": "stream",
     "text": [
      "Enter values for chromosome 2 (space-separated, 0s and 1s only):\n"
     ]
    },
    {
     "name": "stdin",
     "output_type": "stream",
     "text": [
      " 1 0 1 0 1 0\n"
     ]
    },
    {
     "name": "stdout",
     "output_type": "stream",
     "text": [
      "Enter values for chromosome 3 (space-separated, 0s and 1s only):\n"
     ]
    },
    {
     "name": "stdin",
     "output_type": "stream",
     "text": [
      " 0 0 1 1 0 0\n"
     ]
    },
    {
     "name": "stdout",
     "output_type": "stream",
     "text": [
      "Enter values for chromosome 4 (space-separated, 0s and 1s only):\n"
     ]
    },
    {
     "name": "stdin",
     "output_type": "stream",
     "text": [
      " 1 1 0 0 1 1\n"
     ]
    },
    {
     "name": "stdout",
     "output_type": "stream",
     "text": [
      "Initial population S = [[0, 1, 0, 1, 0, 1], [1, 0, 1, 0, 1, 0], [0, 0, 1, 1, 0, 0], [1, 1, 0, 0, 1, 1]]\n"
     ]
    }
   ],
   "source": [
    "S = []\n",
    "num_chromosomes = int(input(\"Enter the number of chromosomes: \"))\n",
    "chromosome_length = int(input(\"Enter the length of each chromosome: \"))\n",
    "\n",
    "for i in range(num_chromosomes):\n",
    "    print(f\"Enter values for chromosome {i + 1} (space-separated, 0s and 1s only):\")\n",
    "    chromosome = list(map(int, input().split()))\n",
    "    while len(chromosome) != chromosome_length:\n",
    "        print(f\"Please enter exactly {chromosome_length} values:\")\n",
    "        chromosome = list(map(int, input().split()))\n",
    "    S.append(chromosome)\n",
    "\n",
    "print(\"Initial population S =\", S)\n"
   ]
  },
  {
   "cell_type": "code",
   "execution_count": null,
   "id": "5a63673b-13fe-427f-9878-b10776f2ec7a",
   "metadata": {},
   "outputs": [],
   "source": []
  }
 ],
 "metadata": {
  "kernelspec": {
   "display_name": "Python 3 (ipykernel)",
   "language": "python",
   "name": "python3"
  },
  "language_info": {
   "codemirror_mode": {
    "name": "ipython",
    "version": 3
   },
   "file_extension": ".py",
   "mimetype": "text/x-python",
   "name": "python",
   "nbconvert_exporter": "python",
   "pygments_lexer": "ipython3",
   "version": "3.12.7"
  }
 },
 "nbformat": 4,
 "nbformat_minor": 5
}
