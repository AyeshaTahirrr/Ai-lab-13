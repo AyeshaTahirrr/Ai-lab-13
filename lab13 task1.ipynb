{
 "cells": [
  {
   "cell_type": "code",
   "execution_count": 1,
   "id": "4fbb4739-979a-4851-8771-b9e132b268d1",
   "metadata": {},
   "outputs": [
    {
     "name": "stdout",
     "output_type": "stream",
     "text": [
      "Initial Population S = [[0, 0, 1, 1, 1, 1, 1, 1, 1, 1], [0, 0, 1, 1, 1, 1, 1, 1, 1, 1], [0, 1, 1, 0, 1, 1, 0, 1, 1, 1], [0, 1, 0, 1, 1, 1, 0, 0, 1, 1], [0, 0, 1, 0, 1, 1, 1, 1, 1, 1], [0, 0, 1, 0, 1, 1, 0, 1, 1, 1]]\n",
      "Fitness\n",
      "Fitness of each chromosome: [8, 8, 7, 6, 7, 6]\n",
      "Total fitness: 42\n",
      "\n",
      "Arranging in Descending Order\n",
      "Sorted Population (Descending Fitness): [[0, 1, 0, 1, 1, 1, 0, 0, 1, 1], [0, 0, 1, 0, 1, 1, 0, 1, 1, 1], [0, 0, 1, 0, 1, 1, 1, 1, 1, 1], [0, 1, 1, 0, 1, 1, 0, 1, 1, 1], [0, 0, 1, 1, 1, 1, 1, 1, 1, 1], [0, 0, 1, 1, 1, 1, 1, 1, 1, 1]]\n",
      "\n",
      "Crossover after 2 points\n",
      "After Crossover:\n",
      "s1 = [0, 1, 1, 1, 1, 1, 0, 0, 1, 1] s4 = [0, 1, 0, 0, 1, 1, 0, 1, 1, 1]\n",
      "s5 = [0, 0, 1, 1, 1, 1, 1, 1, 1, 1] s6 = [0, 0, 1, 1, 1, 1, 1, 1, 1, 1]\n",
      "\n",
      "Mutation\n",
      "After Mutation: [[1, 0, 1, 1, 1, 1, 0, 0, 1, 1], [1, 1, 1, 0, 1, 1, 0, 1, 1, 1], [1, 1, 1, 0, 1, 1, 1, 1, 1, 1], [1, 0, 0, 0, 1, 1, 0, 1, 1, 1], [1, 1, 1, 1, 1, 1, 1, 1, 1, 1], [1, 1, 1, 1, 1, 1, 1, 1, 1, 1]]\n",
      "Fitness\n",
      "Fitness of each chromosome: [7, 8, 9, 6, 10, 10]\n",
      "Total fitness: 50\n",
      "\n",
      "Fitness is greater after applying Genetic Algorithm\n"
     ]
    }
   ],
   "source": [
    "S = [[0, 0, 1, 1, 1, 1, 1, 1, 1, 1], \n",
    "     [0, 0, 1, 1, 1, 1, 1, 1, 1, 1], \n",
    "     [0, 1, 1, 0, 1, 1, 0, 1, 1, 1], \n",
    "     [0, 1, 0, 1, 1, 1, 0, 0, 1, 1], \n",
    "     [0, 0, 1, 0, 1, 1, 1, 1, 1, 1], \n",
    "     [0, 0, 1, 0, 1, 1, 0, 1, 1, 1]]\n",
    "\n",
    "print(\"Initial Population S =\", S)\n",
    "\n",
    "def calfitness(S):\n",
    "    fit = []\n",
    "    total = 0\n",
    "    print(\"Fitness\")\n",
    "    for i in S:\n",
    "        fit.append(i.count(1))\n",
    "        total += i.count(1)\n",
    "    print(\"Fitness of each chromosome:\", fit)\n",
    "    print(\"Total fitness:\", total)\n",
    "    return fit\n",
    "\n",
    "fit = calfitness(S)\n",
    "\n",
    "print(\"\\nArranging in Descending Order\")\n",
    "desc = S.copy()\n",
    "\n",
    "for i in range(len(desc)):\n",
    "    for j in range(i + 1, len(desc)):\n",
    "        if desc[i].count(1) > desc[j].count(1):\n",
    "            desc[i], desc[j] = desc[j], desc[i]\n",
    "\n",
    "print(\"Sorted Population (Descending Fitness):\", desc)\n",
    "\n",
    "print(\"\\nCrossover after 2 points\")\n",
    "for i in range(3):\n",
    "    desc[0][i], desc[3][i] = desc[3][i], desc[0][i]\n",
    "    desc[4][i], desc[5][i] = desc[5][i], desc[4][i]\n",
    "\n",
    "print(\"After Crossover:\")\n",
    "print(\"s1 =\", desc[0], \"s4 =\", desc[3])\n",
    "print(\"s5 =\", desc[4], \"s6 =\", desc[5])\n",
    "\n",
    "print(\"\\nMutation\")\n",
    "for i in range(6):\n",
    "    for j in range(2):\n",
    "        desc[i][j] = 1 if desc[i][j] == 0 else 0\n",
    "\n",
    "print(\"After Mutation:\", desc)\n",
    "\n",
    "fit2 = calfitness(desc)\n",
    "\n",
    "if sum(fit) < sum(fit2):\n",
    "    print(\"\\nFitness is greater after applying Genetic Algorithm\")\n",
    "else:\n",
    "    print(\"\\nFitness is greater before applying Genetic Algorithm\")\n"
   ]
  },
  {
   "cell_type": "code",
   "execution_count": null,
   "id": "7c9c490e-842e-46a4-b05e-403e866d9c64",
   "metadata": {},
   "outputs": [],
   "source": []
  }
 ],
 "metadata": {
  "kernelspec": {
   "display_name": "Python 3 (ipykernel)",
   "language": "python",
   "name": "python3"
  },
  "language_info": {
   "codemirror_mode": {
    "name": "ipython",
    "version": 3
   },
   "file_extension": ".py",
   "mimetype": "text/x-python",
   "name": "python",
   "nbconvert_exporter": "python",
   "pygments_lexer": "ipython3",
   "version": "3.12.7"
  }
 },
 "nbformat": 4,
 "nbformat_minor": 5
}
